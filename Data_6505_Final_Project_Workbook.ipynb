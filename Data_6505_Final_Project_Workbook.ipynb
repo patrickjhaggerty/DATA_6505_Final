{
  "nbformat": 4,
  "nbformat_minor": 0,
  "metadata": {
    "colab": {
      "name": "Data 6505 Final Project Workbook.ipynb",
      "provenance": [],
      "collapsed_sections": []
    },
    "kernelspec": {
      "name": "python3",
      "display_name": "Python 3"
    },
    "language_info": {
      "name": "python"
    }
  },
  "cells": [
    {
      "cell_type": "markdown",
      "metadata": {
        "id": "GduRF3CjDm7r"
      },
      "source": [
        "Instructions: https://github.com/Fairfield-University-BA505/FinalProjectFA2019/blob/master/finalproject2021.md\n",
        "\n",
        "New data set: https://www.kaggle.com/sagarkandpal/effectsofcovid19ontradeat14july2021\n",
        "\n",
        "**Timeline/Workplan**\n",
        "\n",
        "**Nov, 2:** Review assignment, form teams, and begin planning out the work. Do not create any shared folder yet.\n",
        "\n",
        "**Nov, 9:** Follow instructions in class to set up your teams and shared folders. Also prepare a short (5-minute verbal) proposal for your project that covers i) data source; ii) research questions; iii) anticipated challenges; and iv) what results you expect to present on the final day of class.\n",
        "\n",
        "**Nov., 16, 23 and 30:** Use the class time to meet with your team and ask questions when needed. (Note: You are expected to show up for class. We have other classwork to do yet.)\n",
        "\n",
        "**Dec., 7:** Preview of your results. This is like a dress rehearsal to address any remaining problems before your final presentations.\n",
        "\n",
        "**Dec., 14:** Present your finished work. Walk us through your project, including your source/motivations, finished notebook, modules/testing, and lessons learned. There will be no slides for this. Just use your work. See the instructions for the summary.ipynb file above."
      ]
    },
    {
      "cell_type": "markdown",
      "metadata": {
        "id": "a2syOSDmEAQJ"
      },
      "source": [
        "**Project Idea:**\n",
        "\n",
        "Comparing the effect of the pandemic on international supply chain between 2020-2021.\n",
        "\n",
        "**To Do:**\n",
        "\n",
        "Need to find and import a data source (See what US Postal Service has, Professor named another source...)\n",
        "\n",
        "Start to manipulate the data here and form questions to answer"
      ]
    },
    {
      "cell_type": "markdown",
      "metadata": {
        "id": "ua45csYMwNQp"
      },
      "source": [
        "### Import Libraries"
      ]
    },
    {
      "cell_type": "code",
      "metadata": {
        "id": "wW-TB9oKoxAk"
      },
      "source": [
        "# Import\n",
        "import pandas as pd\n",
        "import numpy as np\n",
        "\n"
      ],
      "execution_count": 1,
      "outputs": []
    },
    {
      "cell_type": "markdown",
      "metadata": {
        "id": "qO9ppGWJwK_J"
      },
      "source": [
        "### Load the Data"
      ]
    },
    {
      "cell_type": "code",
      "metadata": {
        "id": "L3LzYzv5DS7R"
      },
      "source": [
        "# load data\n",
        "# data source from kaggle at: https://www.kaggle.com/sagarkandpal/effectsofcovid19ontradeat14july2021\n",
        "data_url = 'https://raw.githubusercontent.com/patrickjhaggerty/DATA_6505_Final/main/effects-of-covid-19-on-trade-at-14-July-2021-provisional.csv'\n",
        "df = pd.read_csv(data_url)\n"
      ],
      "execution_count": 3,
      "outputs": []
    },
    {
      "cell_type": "markdown",
      "metadata": {
        "id": "dwMmQNN9wdVi"
      },
      "source": [
        "### Review Data Frame"
      ]
    },
    {
      "cell_type": "code",
      "metadata": {
        "colab": {
          "base_uri": "https://localhost:8080/",
          "height": 363
        },
        "id": "4GhvBefawchT",
        "outputId": "2df8b105-f44a-493b-90c4-c973b2d79cab"
      },
      "source": [
        "df.head(10)"
      ],
      "execution_count": 4,
      "outputs": [
        {
          "output_type": "execute_result",
          "data": {
            "text/html": [
              "<div>\n",
              "<style scoped>\n",
              "    .dataframe tbody tr th:only-of-type {\n",
              "        vertical-align: middle;\n",
              "    }\n",
              "\n",
              "    .dataframe tbody tr th {\n",
              "        vertical-align: top;\n",
              "    }\n",
              "\n",
              "    .dataframe thead th {\n",
              "        text-align: right;\n",
              "    }\n",
              "</style>\n",
              "<table border=\"1\" class=\"dataframe\">\n",
              "  <thead>\n",
              "    <tr style=\"text-align: right;\">\n",
              "      <th></th>\n",
              "      <th>Direction</th>\n",
              "      <th>Year</th>\n",
              "      <th>Date</th>\n",
              "      <th>Weekday</th>\n",
              "      <th>Country</th>\n",
              "      <th>Commodity</th>\n",
              "      <th>Transport_Mode</th>\n",
              "      <th>Measure</th>\n",
              "      <th>Value</th>\n",
              "      <th>Cumulative</th>\n",
              "    </tr>\n",
              "  </thead>\n",
              "  <tbody>\n",
              "    <tr>\n",
              "      <th>0</th>\n",
              "      <td>Exports</td>\n",
              "      <td>2015</td>\n",
              "      <td>01/01/2015</td>\n",
              "      <td>Thursday</td>\n",
              "      <td>All</td>\n",
              "      <td>All</td>\n",
              "      <td>All</td>\n",
              "      <td>$</td>\n",
              "      <td>104000000</td>\n",
              "      <td>104000000</td>\n",
              "    </tr>\n",
              "    <tr>\n",
              "      <th>1</th>\n",
              "      <td>Exports</td>\n",
              "      <td>2015</td>\n",
              "      <td>02/01/2015</td>\n",
              "      <td>Friday</td>\n",
              "      <td>All</td>\n",
              "      <td>All</td>\n",
              "      <td>All</td>\n",
              "      <td>$</td>\n",
              "      <td>96000000</td>\n",
              "      <td>200000000</td>\n",
              "    </tr>\n",
              "    <tr>\n",
              "      <th>2</th>\n",
              "      <td>Exports</td>\n",
              "      <td>2015</td>\n",
              "      <td>03/01/2015</td>\n",
              "      <td>Saturday</td>\n",
              "      <td>All</td>\n",
              "      <td>All</td>\n",
              "      <td>All</td>\n",
              "      <td>$</td>\n",
              "      <td>61000000</td>\n",
              "      <td>262000000</td>\n",
              "    </tr>\n",
              "    <tr>\n",
              "      <th>3</th>\n",
              "      <td>Exports</td>\n",
              "      <td>2015</td>\n",
              "      <td>04/01/2015</td>\n",
              "      <td>Sunday</td>\n",
              "      <td>All</td>\n",
              "      <td>All</td>\n",
              "      <td>All</td>\n",
              "      <td>$</td>\n",
              "      <td>74000000</td>\n",
              "      <td>336000000</td>\n",
              "    </tr>\n",
              "    <tr>\n",
              "      <th>4</th>\n",
              "      <td>Exports</td>\n",
              "      <td>2015</td>\n",
              "      <td>05/01/2015</td>\n",
              "      <td>Monday</td>\n",
              "      <td>All</td>\n",
              "      <td>All</td>\n",
              "      <td>All</td>\n",
              "      <td>$</td>\n",
              "      <td>105000000</td>\n",
              "      <td>442000000</td>\n",
              "    </tr>\n",
              "    <tr>\n",
              "      <th>5</th>\n",
              "      <td>Exports</td>\n",
              "      <td>2015</td>\n",
              "      <td>06/01/2015</td>\n",
              "      <td>Tuesday</td>\n",
              "      <td>All</td>\n",
              "      <td>All</td>\n",
              "      <td>All</td>\n",
              "      <td>$</td>\n",
              "      <td>76000000</td>\n",
              "      <td>518000000</td>\n",
              "    </tr>\n",
              "    <tr>\n",
              "      <th>6</th>\n",
              "      <td>Exports</td>\n",
              "      <td>2015</td>\n",
              "      <td>07/01/2015</td>\n",
              "      <td>Wednesday</td>\n",
              "      <td>All</td>\n",
              "      <td>All</td>\n",
              "      <td>All</td>\n",
              "      <td>$</td>\n",
              "      <td>59000000</td>\n",
              "      <td>577000000</td>\n",
              "    </tr>\n",
              "    <tr>\n",
              "      <th>7</th>\n",
              "      <td>Exports</td>\n",
              "      <td>2015</td>\n",
              "      <td>08/01/2015</td>\n",
              "      <td>Thursday</td>\n",
              "      <td>All</td>\n",
              "      <td>All</td>\n",
              "      <td>All</td>\n",
              "      <td>$</td>\n",
              "      <td>111000000</td>\n",
              "      <td>688000000</td>\n",
              "    </tr>\n",
              "    <tr>\n",
              "      <th>8</th>\n",
              "      <td>Exports</td>\n",
              "      <td>2015</td>\n",
              "      <td>09/01/2015</td>\n",
              "      <td>Friday</td>\n",
              "      <td>All</td>\n",
              "      <td>All</td>\n",
              "      <td>All</td>\n",
              "      <td>$</td>\n",
              "      <td>98000000</td>\n",
              "      <td>786000000</td>\n",
              "    </tr>\n",
              "    <tr>\n",
              "      <th>9</th>\n",
              "      <td>Exports</td>\n",
              "      <td>2015</td>\n",
              "      <td>10/01/2015</td>\n",
              "      <td>Saturday</td>\n",
              "      <td>All</td>\n",
              "      <td>All</td>\n",
              "      <td>All</td>\n",
              "      <td>$</td>\n",
              "      <td>89000000</td>\n",
              "      <td>875000000</td>\n",
              "    </tr>\n",
              "  </tbody>\n",
              "</table>\n",
              "</div>"
            ],
            "text/plain": [
              "  Direction  Year        Date  ... Measure      Value Cumulative\n",
              "0   Exports  2015  01/01/2015  ...       $  104000000  104000000\n",
              "1   Exports  2015  02/01/2015  ...       $   96000000  200000000\n",
              "2   Exports  2015  03/01/2015  ...       $   61000000  262000000\n",
              "3   Exports  2015  04/01/2015  ...       $   74000000  336000000\n",
              "4   Exports  2015  05/01/2015  ...       $  105000000  442000000\n",
              "5   Exports  2015  06/01/2015  ...       $   76000000  518000000\n",
              "6   Exports  2015  07/01/2015  ...       $   59000000  577000000\n",
              "7   Exports  2015  08/01/2015  ...       $  111000000  688000000\n",
              "8   Exports  2015  09/01/2015  ...       $   98000000  786000000\n",
              "9   Exports  2015  10/01/2015  ...       $   89000000  875000000\n",
              "\n",
              "[10 rows x 10 columns]"
            ]
          },
          "metadata": {},
          "execution_count": 4
        }
      ]
    },
    {
      "cell_type": "code",
      "metadata": {
        "colab": {
          "base_uri": "https://localhost:8080/"
        },
        "id": "TW8GojZpzJAL",
        "outputId": "02aa9cb3-3603-464a-8ef6-303e5bfb3917"
      },
      "source": [
        "df.shape"
      ],
      "execution_count": 5,
      "outputs": [
        {
          "output_type": "execute_result",
          "data": {
            "text/plain": [
              "(104665, 10)"
            ]
          },
          "metadata": {},
          "execution_count": 5
        }
      ]
    },
    {
      "cell_type": "code",
      "metadata": {
        "colab": {
          "base_uri": "https://localhost:8080/"
        },
        "id": "NRnC86x8zM-w",
        "outputId": "0cc15770-6645-47fa-ea91-1f0a273cede0"
      },
      "source": [
        "df.columns"
      ],
      "execution_count": 6,
      "outputs": [
        {
          "output_type": "execute_result",
          "data": {
            "text/plain": [
              "Index(['Direction', 'Year', 'Date', 'Weekday', 'Country', 'Commodity',\n",
              "       'Transport_Mode', 'Measure', 'Value', 'Cumulative'],\n",
              "      dtype='object')"
            ]
          },
          "metadata": {},
          "execution_count": 6
        }
      ]
    },
    {
      "cell_type": "code",
      "metadata": {
        "colab": {
          "base_uri": "https://localhost:8080/"
        },
        "id": "XNGhuC0-osE6",
        "outputId": "48e1d030-cd96-4d01-8d0e-65ca427e5028"
      },
      "source": [
        "df.info()"
      ],
      "execution_count": 7,
      "outputs": [
        {
          "output_type": "stream",
          "name": "stdout",
          "text": [
            "<class 'pandas.core.frame.DataFrame'>\n",
            "RangeIndex: 104665 entries, 0 to 104664\n",
            "Data columns (total 10 columns):\n",
            " #   Column          Non-Null Count   Dtype \n",
            "---  ------          --------------   ----- \n",
            " 0   Direction       104665 non-null  object\n",
            " 1   Year            104665 non-null  int64 \n",
            " 2   Date            104665 non-null  object\n",
            " 3   Weekday         104665 non-null  object\n",
            " 4   Country         104665 non-null  object\n",
            " 5   Commodity       104665 non-null  object\n",
            " 6   Transport_Mode  104665 non-null  object\n",
            " 7   Measure         104665 non-null  object\n",
            " 8   Value           104665 non-null  int64 \n",
            " 9   Cumulative      104665 non-null  int64 \n",
            "dtypes: int64(3), object(7)\n",
            "memory usage: 8.0+ MB\n"
          ]
        }
      ]
    },
    {
      "cell_type": "code",
      "metadata": {
        "colab": {
          "base_uri": "https://localhost:8080/"
        },
        "id": "7Ig3mo1spBya",
        "outputId": "a6299cb6-47b1-432d-9d35-c1c46862dd0f"
      },
      "source": [
        "# A quick check of which commodities exist in DF\n",
        "df['Commodity'].value_counts()"
      ],
      "execution_count": 8,
      "outputs": [
        {
          "output_type": "execute_result",
          "data": {
            "text/plain": [
              "All                                42949\n",
              "Milk powder, butter, and cheese    14210\n",
              "Meat and edible offal              14178\n",
              "Logs, wood, and wood articles       9490\n",
              "Fish, crustaceans, and molluscs     7138\n",
              "Non-food manufactured goods         4774\n",
              "Electrical machinery and equip      4771\n",
              "Mechanical machinery and equip      4768\n",
              "Fruit                               2387\n",
              "Name: Commodity, dtype: int64"
            ]
          },
          "metadata": {},
          "execution_count": 8
        }
      ]
    },
    {
      "cell_type": "code",
      "source": [
        "# A quick check of which Countries exist in DF\n",
        "df['Country'].value_counts()"
      ],
      "metadata": {
        "colab": {
          "base_uri": "https://localhost:8080/"
        },
        "id": "SrYO1shKER9q",
        "outputId": "a0fbd540-2ad6-4534-d36f-e7bcf949c9f4"
      },
      "execution_count": 9,
      "outputs": [
        {
          "output_type": "execute_result",
          "data": {
            "text/plain": [
              "All                            47722\n",
              "China                          26040\n",
              "East Asia (excluding China)     7157\n",
              "United States                   7039\n",
              "Australia                       4774\n",
              "United Kingdom                  4772\n",
              "European Union (27)             2387\n",
              "Total (excluding China)         2387\n",
              "Japan                           2387\n",
              "Name: Country, dtype: int64"
            ]
          },
          "metadata": {},
          "execution_count": 9
        }
      ]
    },
    {
      "cell_type": "code",
      "metadata": {
        "colab": {
          "base_uri": "https://localhost:8080/"
        },
        "id": "PeXpVI3N0dY3",
        "outputId": "e7caee58-7bd6-422e-fa13-cafb7dd2d07a"
      },
      "source": [
        "# Checks which years data is available for\n",
        "df['Year'].value_counts().sort_index()"
      ],
      "execution_count": 10,
      "outputs": [
        {
          "output_type": "execute_result",
          "data": {
            "text/plain": [
              "2015    16005\n",
              "2016    16028\n",
              "2017    15995\n",
              "2018    16019\n",
              "2019    16017\n",
              "2020    16031\n",
              "2021     8570\n",
              "Name: Year, dtype: int64"
            ]
          },
          "metadata": {},
          "execution_count": 10
        }
      ]
    },
    {
      "cell_type": "markdown",
      "metadata": {
        "id": "WzEwtw2VxuCl"
      },
      "source": [
        "### Look for Missing Data"
      ]
    },
    {
      "cell_type": "code",
      "metadata": {
        "colab": {
          "base_uri": "https://localhost:8080/"
        },
        "id": "GYmJqhGtxxih",
        "outputId": "7de394d5-feb4-4806-f78d-f8a2c7609134"
      },
      "source": [
        "# Finds the percent of values that are null in a given field\n",
        "df.isnull().mean()"
      ],
      "execution_count": 11,
      "outputs": [
        {
          "output_type": "execute_result",
          "data": {
            "text/plain": [
              "Direction         0.0\n",
              "Year              0.0\n",
              "Date              0.0\n",
              "Weekday           0.0\n",
              "Country           0.0\n",
              "Commodity         0.0\n",
              "Transport_Mode    0.0\n",
              "Measure           0.0\n",
              "Value             0.0\n",
              "Cumulative        0.0\n",
              "dtype: float64"
            ]
          },
          "metadata": {},
          "execution_count": 11
        }
      ]
    },
    {
      "cell_type": "code",
      "metadata": {
        "id": "5EGom6s3xx2T"
      },
      "source": [
        "# Looks at fields where quantity is blank\n",
        "# df[df['Value'].isna()].head(5)\n",
        "# Data has no blanks"
      ],
      "execution_count": 12,
      "outputs": []
    },
    {
      "cell_type": "markdown",
      "metadata": {
        "id": "B8L697t3yQSN"
      },
      "source": [
        "### Add Additional Fields"
      ]
    },
    {
      "cell_type": "code",
      "metadata": {
        "id": "iU97h0SOyQuN"
      },
      "source": [
        ""
      ],
      "execution_count": null,
      "outputs": []
    },
    {
      "cell_type": "code",
      "metadata": {
        "id": "YYDuqpSByRAo"
      },
      "source": [
        ""
      ],
      "execution_count": null,
      "outputs": []
    },
    {
      "cell_type": "markdown",
      "metadata": {
        "id": "0MG14xDuxyHo"
      },
      "source": [
        "### Check Data Types"
      ]
    },
    {
      "cell_type": "code",
      "metadata": {
        "colab": {
          "base_uri": "https://localhost:8080/"
        },
        "id": "ZPqntRD_x0UV",
        "outputId": "8b54d705-f980-4c3a-f849-106509681690"
      },
      "source": [
        "df.dtypes"
      ],
      "execution_count": 13,
      "outputs": [
        {
          "output_type": "execute_result",
          "data": {
            "text/plain": [
              "Direction         object\n",
              "Year               int64\n",
              "Date              object\n",
              "Weekday           object\n",
              "Country           object\n",
              "Commodity         object\n",
              "Transport_Mode    object\n",
              "Measure           object\n",
              "Value              int64\n",
              "Cumulative         int64\n",
              "dtype: object"
            ]
          },
          "metadata": {},
          "execution_count": 13
        }
      ]
    },
    {
      "cell_type": "code",
      "metadata": {
        "id": "IsKW5R1tx0lg"
      },
      "source": [
        ""
      ],
      "execution_count": null,
      "outputs": []
    },
    {
      "cell_type": "markdown",
      "metadata": {
        "id": "qvHNx130x03B"
      },
      "source": [
        "### Describe Data Frame"
      ]
    },
    {
      "cell_type": "code",
      "metadata": {
        "colab": {
          "base_uri": "https://localhost:8080/",
          "height": 300
        },
        "id": "2gzACShfx1d3",
        "outputId": "4e4a4ea8-786d-4f55-88f1-6b06cf0cb46a"
      },
      "source": [
        "df.describe()"
      ],
      "execution_count": 14,
      "outputs": [
        {
          "output_type": "execute_result",
          "data": {
            "text/html": [
              "<div>\n",
              "<style scoped>\n",
              "    .dataframe tbody tr th:only-of-type {\n",
              "        vertical-align: middle;\n",
              "    }\n",
              "\n",
              "    .dataframe tbody tr th {\n",
              "        vertical-align: top;\n",
              "    }\n",
              "\n",
              "    .dataframe thead th {\n",
              "        text-align: right;\n",
              "    }\n",
              "</style>\n",
              "<table border=\"1\" class=\"dataframe\">\n",
              "  <thead>\n",
              "    <tr style=\"text-align: right;\">\n",
              "      <th></th>\n",
              "      <th>Year</th>\n",
              "      <th>Value</th>\n",
              "      <th>Cumulative</th>\n",
              "    </tr>\n",
              "  </thead>\n",
              "  <tbody>\n",
              "    <tr>\n",
              "      <th>count</th>\n",
              "      <td>104665.000000</td>\n",
              "      <td>1.046650e+05</td>\n",
              "      <td>1.046650e+05</td>\n",
              "    </tr>\n",
              "    <tr>\n",
              "      <th>mean</th>\n",
              "      <td>2017.787159</td>\n",
              "      <td>2.863475e+07</td>\n",
              "      <td>4.927747e+09</td>\n",
              "    </tr>\n",
              "    <tr>\n",
              "      <th>std</th>\n",
              "      <td>1.897092</td>\n",
              "      <td>5.175917e+07</td>\n",
              "      <td>9.378260e+09</td>\n",
              "    </tr>\n",
              "    <tr>\n",
              "      <th>min</th>\n",
              "      <td>2015.000000</td>\n",
              "      <td>0.000000e+00</td>\n",
              "      <td>0.000000e+00</td>\n",
              "    </tr>\n",
              "    <tr>\n",
              "      <th>25%</th>\n",
              "      <td>2016.000000</td>\n",
              "      <td>1.000000e+06</td>\n",
              "      <td>1.080000e+08</td>\n",
              "    </tr>\n",
              "    <tr>\n",
              "      <th>50%</th>\n",
              "      <td>2018.000000</td>\n",
              "      <td>8.000000e+06</td>\n",
              "      <td>1.348000e+09</td>\n",
              "    </tr>\n",
              "    <tr>\n",
              "      <th>75%</th>\n",
              "      <td>2019.000000</td>\n",
              "      <td>2.700000e+07</td>\n",
              "      <td>4.549000e+09</td>\n",
              "    </tr>\n",
              "    <tr>\n",
              "      <th>max</th>\n",
              "      <td>2021.000000</td>\n",
              "      <td>5.490000e+08</td>\n",
              "      <td>6.436600e+10</td>\n",
              "    </tr>\n",
              "  </tbody>\n",
              "</table>\n",
              "</div>"
            ],
            "text/plain": [
              "                Year         Value    Cumulative\n",
              "count  104665.000000  1.046650e+05  1.046650e+05\n",
              "mean     2017.787159  2.863475e+07  4.927747e+09\n",
              "std         1.897092  5.175917e+07  9.378260e+09\n",
              "min      2015.000000  0.000000e+00  0.000000e+00\n",
              "25%      2016.000000  1.000000e+06  1.080000e+08\n",
              "50%      2018.000000  8.000000e+06  1.348000e+09\n",
              "75%      2019.000000  2.700000e+07  4.549000e+09\n",
              "max      2021.000000  5.490000e+08  6.436600e+10"
            ]
          },
          "metadata": {},
          "execution_count": 14
        }
      ]
    },
    {
      "cell_type": "code",
      "metadata": {
        "id": "6GDVAYJfx2Ei"
      },
      "source": [
        ""
      ],
      "execution_count": null,
      "outputs": []
    },
    {
      "cell_type": "markdown",
      "metadata": {
        "id": "FtMx7SARx2dE"
      },
      "source": [
        "### Q1: ____"
      ]
    },
    {
      "cell_type": "code",
      "metadata": {
        "id": "_93DMSgyx20i"
      },
      "source": [
        ""
      ],
      "execution_count": null,
      "outputs": []
    },
    {
      "cell_type": "code",
      "metadata": {
        "id": "gV_ygJTox3CB"
      },
      "source": [
        ""
      ],
      "execution_count": null,
      "outputs": []
    },
    {
      "cell_type": "markdown",
      "metadata": {
        "id": "EJ5CEPHEyJwX"
      },
      "source": [
        "### Q2: ____"
      ]
    },
    {
      "cell_type": "code",
      "metadata": {
        "id": "pKhxwNGqyKc7"
      },
      "source": [
        ""
      ],
      "execution_count": null,
      "outputs": []
    },
    {
      "cell_type": "code",
      "metadata": {
        "id": "AqHRrHDHyK9_"
      },
      "source": [
        ""
      ],
      "execution_count": null,
      "outputs": []
    },
    {
      "cell_type": "markdown",
      "metadata": {
        "id": "pAK4iSnPyXFX"
      },
      "source": [
        "### Lessons Learned"
      ]
    },
    {
      "cell_type": "code",
      "metadata": {
        "id": "wAUgRTyQyXaL"
      },
      "source": [
        ""
      ],
      "execution_count": null,
      "outputs": []
    },
    {
      "cell_type": "code",
      "metadata": {
        "id": "5x0QqnYbyXp8"
      },
      "source": [
        ""
      ],
      "execution_count": null,
      "outputs": []
    },
    {
      "cell_type": "markdown",
      "metadata": {
        "id": "NvLTz8fKyX7E"
      },
      "source": [
        "### Next Steps"
      ]
    },
    {
      "cell_type": "code",
      "metadata": {
        "id": "FvgHxrFIyYSt"
      },
      "source": [
        ""
      ],
      "execution_count": null,
      "outputs": []
    },
    {
      "cell_type": "code",
      "metadata": {
        "id": "wi-F23uXyYiP"
      },
      "source": [
        ""
      ],
      "execution_count": null,
      "outputs": []
    }
  ]
}