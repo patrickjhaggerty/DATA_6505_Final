{
  "nbformat": 4,
  "nbformat_minor": 0,
  "metadata": {
    "colab": {
      "name": "Data 6505 Final Project Workbook.ipynb",
      "provenance": [],
      "collapsed_sections": []
    },
    "kernelspec": {
      "name": "python3",
      "display_name": "Python 3"
    },
    "language_info": {
      "name": "python"
    }
  },
  "cells": [
    {
      "cell_type": "markdown",
      "metadata": {
        "id": "GduRF3CjDm7r"
      },
      "source": [
        "**Final Project Working File**\n",
        "\n",
        "Instructions: https://github.com/Fairfield-University-BA505/FinalProjectFA2019/blob/master/finalproject2021.md\n",
        "\n",
        "New data set: https://www.kaggle.com/sagarkandpal/effectsofcovid19ontradeat14july2021\n",
        "\n",
        "**Dec., 14:** Present your finished work. Walk us through your project, including your source/motivations, finished notebook, modules/testing, and lessons learned. There will be no slides for this. Just use your work. See the instructions for the summary.ipynb file above."
      ]
    },
    {
      "cell_type": "markdown",
      "metadata": {
        "id": "a2syOSDmEAQJ"
      },
      "source": [
        "**Project Idea:**\n",
        "\n",
        "Comparing the effect of the pandemic on international supply chain between 2020-2021.\n"
      ]
    },
    {
      "cell_type": "markdown",
      "metadata": {
        "id": "ua45csYMwNQp"
      },
      "source": [
        "### Import Libraries"
      ]
    },
    {
      "cell_type": "code",
      "metadata": {
        "id": "wW-TB9oKoxAk"
      },
      "source": [
        "# Import Pandas and Numpy\n",
        "import pandas as pd\n",
        "import numpy as np\n",
        "import datetime as dt"
      ],
      "execution_count": 2,
      "outputs": []
    },
    {
      "cell_type": "markdown",
      "metadata": {
        "id": "qO9ppGWJwK_J"
      },
      "source": [
        "### Load the Data"
      ]
    },
    {
      "cell_type": "code",
      "metadata": {
        "id": "L3LzYzv5DS7R"
      },
      "source": [
        "# Load data from Github\n",
        "# Data source originally from kaggle at: https://www.kaggle.com/sagarkandpal/effectsofcovid19ontradeat14july2021\n",
        "data_url = 'https://raw.githubusercontent.com/patrickjhaggerty/DATA_6505_Final/main/effects-of-covid-19-on-trade-at-14-July-2021-provisional.csv'\n",
        "trade_data = pd.read_csv(data_url, \n",
        "                         parse_dates=['Date'], dayfirst=True) # Important for the date field, its in European format\n"
      ],
      "execution_count": 3,
      "outputs": []
    },
    {
      "cell_type": "markdown",
      "metadata": {
        "id": "dwMmQNN9wdVi"
      },
      "source": [
        "### Review Data Frame"
      ]
    },
    {
      "cell_type": "code",
      "metadata": {
        "colab": {
          "base_uri": "https://localhost:8080/",
          "height": 206
        },
        "id": "4GhvBefawchT",
        "outputId": "065de668-7461-4d68-c652-b9c8bcb9a54f"
      },
      "source": [
        "# Previews the data\n",
        "trade_data.head(5)"
      ],
      "execution_count": 4,
      "outputs": [
        {
          "output_type": "execute_result",
          "data": {
            "text/html": [
              "<div>\n",
              "<style scoped>\n",
              "    .dataframe tbody tr th:only-of-type {\n",
              "        vertical-align: middle;\n",
              "    }\n",
              "\n",
              "    .dataframe tbody tr th {\n",
              "        vertical-align: top;\n",
              "    }\n",
              "\n",
              "    .dataframe thead th {\n",
              "        text-align: right;\n",
              "    }\n",
              "</style>\n",
              "<table border=\"1\" class=\"dataframe\">\n",
              "  <thead>\n",
              "    <tr style=\"text-align: right;\">\n",
              "      <th></th>\n",
              "      <th>Direction</th>\n",
              "      <th>Year</th>\n",
              "      <th>Date</th>\n",
              "      <th>Weekday</th>\n",
              "      <th>Country</th>\n",
              "      <th>Commodity</th>\n",
              "      <th>Transport_Mode</th>\n",
              "      <th>Measure</th>\n",
              "      <th>Value</th>\n",
              "      <th>Cumulative</th>\n",
              "    </tr>\n",
              "  </thead>\n",
              "  <tbody>\n",
              "    <tr>\n",
              "      <th>0</th>\n",
              "      <td>Exports</td>\n",
              "      <td>2015</td>\n",
              "      <td>2015-01-01</td>\n",
              "      <td>Thursday</td>\n",
              "      <td>All</td>\n",
              "      <td>All</td>\n",
              "      <td>All</td>\n",
              "      <td>$</td>\n",
              "      <td>104000000</td>\n",
              "      <td>104000000</td>\n",
              "    </tr>\n",
              "    <tr>\n",
              "      <th>1</th>\n",
              "      <td>Exports</td>\n",
              "      <td>2015</td>\n",
              "      <td>2015-01-02</td>\n",
              "      <td>Friday</td>\n",
              "      <td>All</td>\n",
              "      <td>All</td>\n",
              "      <td>All</td>\n",
              "      <td>$</td>\n",
              "      <td>96000000</td>\n",
              "      <td>200000000</td>\n",
              "    </tr>\n",
              "    <tr>\n",
              "      <th>2</th>\n",
              "      <td>Exports</td>\n",
              "      <td>2015</td>\n",
              "      <td>2015-01-03</td>\n",
              "      <td>Saturday</td>\n",
              "      <td>All</td>\n",
              "      <td>All</td>\n",
              "      <td>All</td>\n",
              "      <td>$</td>\n",
              "      <td>61000000</td>\n",
              "      <td>262000000</td>\n",
              "    </tr>\n",
              "    <tr>\n",
              "      <th>3</th>\n",
              "      <td>Exports</td>\n",
              "      <td>2015</td>\n",
              "      <td>2015-01-04</td>\n",
              "      <td>Sunday</td>\n",
              "      <td>All</td>\n",
              "      <td>All</td>\n",
              "      <td>All</td>\n",
              "      <td>$</td>\n",
              "      <td>74000000</td>\n",
              "      <td>336000000</td>\n",
              "    </tr>\n",
              "    <tr>\n",
              "      <th>4</th>\n",
              "      <td>Exports</td>\n",
              "      <td>2015</td>\n",
              "      <td>2015-01-05</td>\n",
              "      <td>Monday</td>\n",
              "      <td>All</td>\n",
              "      <td>All</td>\n",
              "      <td>All</td>\n",
              "      <td>$</td>\n",
              "      <td>105000000</td>\n",
              "      <td>442000000</td>\n",
              "    </tr>\n",
              "  </tbody>\n",
              "</table>\n",
              "</div>"
            ],
            "text/plain": [
              "  Direction  Year       Date  ... Measure      Value Cumulative\n",
              "0   Exports  2015 2015-01-01  ...       $  104000000  104000000\n",
              "1   Exports  2015 2015-01-02  ...       $   96000000  200000000\n",
              "2   Exports  2015 2015-01-03  ...       $   61000000  262000000\n",
              "3   Exports  2015 2015-01-04  ...       $   74000000  336000000\n",
              "4   Exports  2015 2015-01-05  ...       $  105000000  442000000\n",
              "\n",
              "[5 rows x 10 columns]"
            ]
          },
          "metadata": {},
          "execution_count": 4
        }
      ]
    },
    {
      "cell_type": "code",
      "metadata": {
        "colab": {
          "base_uri": "https://localhost:8080/"
        },
        "id": "TW8GojZpzJAL",
        "outputId": "154d9a8a-fe15-48ce-edf3-87f8abf49117"
      },
      "source": [
        "# Counts the number of rows and fields\n",
        "trade_data.shape"
      ],
      "execution_count": 5,
      "outputs": [
        {
          "output_type": "execute_result",
          "data": {
            "text/plain": [
              "(104665, 10)"
            ]
          },
          "metadata": {},
          "execution_count": 5
        }
      ]
    },
    {
      "cell_type": "code",
      "metadata": {
        "colab": {
          "base_uri": "https://localhost:8080/"
        },
        "id": "NRnC86x8zM-w",
        "outputId": "2318dd81-0a08-4ab1-8680-16260dfd13e8"
      },
      "source": [
        "# Lists the field names\n",
        "trade_data.columns"
      ],
      "execution_count": 6,
      "outputs": [
        {
          "output_type": "execute_result",
          "data": {
            "text/plain": [
              "Index(['Direction', 'Year', 'Date', 'Weekday', 'Country', 'Commodity',\n",
              "       'Transport_Mode', 'Measure', 'Value', 'Cumulative'],\n",
              "      dtype='object')"
            ]
          },
          "metadata": {},
          "execution_count": 6
        }
      ]
    },
    {
      "cell_type": "code",
      "metadata": {
        "colab": {
          "base_uri": "https://localhost:8080/"
        },
        "id": "XNGhuC0-osE6",
        "outputId": "694552b1-e9c4-4119-f623-9b2c10c40e90"
      },
      "source": [
        "# Lists the field data types\n",
        "trade_data.dtypes"
      ],
      "execution_count": 7,
      "outputs": [
        {
          "output_type": "execute_result",
          "data": {
            "text/plain": [
              "Direction                 object\n",
              "Year                       int64\n",
              "Date              datetime64[ns]\n",
              "Weekday                   object\n",
              "Country                   object\n",
              "Commodity                 object\n",
              "Transport_Mode            object\n",
              "Measure                   object\n",
              "Value                      int64\n",
              "Cumulative                 int64\n",
              "dtype: object"
            ]
          },
          "metadata": {},
          "execution_count": 7
        }
      ]
    },
    {
      "cell_type": "code",
      "metadata": {
        "colab": {
          "base_uri": "https://localhost:8080/"
        },
        "id": "7Ig3mo1spBya",
        "outputId": "e8621f76-3a14-4d9f-db72-c8b4e351356b"
      },
      "source": [
        "# A check of which Commodities exist in DF\n",
        "trade_data['Commodity'].value_counts()"
      ],
      "execution_count": 8,
      "outputs": [
        {
          "output_type": "execute_result",
          "data": {
            "text/plain": [
              "All                                42949\n",
              "Milk powder, butter, and cheese    14210\n",
              "Meat and edible offal              14178\n",
              "Logs, wood, and wood articles       9490\n",
              "Fish, crustaceans, and molluscs     7138\n",
              "Non-food manufactured goods         4774\n",
              "Electrical machinery and equip      4771\n",
              "Mechanical machinery and equip      4768\n",
              "Fruit                               2387\n",
              "Name: Commodity, dtype: int64"
            ]
          },
          "metadata": {},
          "execution_count": 8
        }
      ]
    },
    {
      "cell_type": "code",
      "source": [
        "# A check of which Countries exist in DF\n",
        "trade_data['Country'].value_counts()"
      ],
      "metadata": {
        "colab": {
          "base_uri": "https://localhost:8080/"
        },
        "id": "SrYO1shKER9q",
        "outputId": "ba874400-2ccd-4afe-c6e4-5846aa19473a"
      },
      "execution_count": 9,
      "outputs": [
        {
          "output_type": "execute_result",
          "data": {
            "text/plain": [
              "All                            47722\n",
              "China                          26040\n",
              "East Asia (excluding China)     7157\n",
              "United States                   7039\n",
              "Australia                       4774\n",
              "United Kingdom                  4772\n",
              "Japan                           2387\n",
              "European Union (27)             2387\n",
              "Total (excluding China)         2387\n",
              "Name: Country, dtype: int64"
            ]
          },
          "metadata": {},
          "execution_count": 9
        }
      ]
    },
    {
      "cell_type": "code",
      "metadata": {
        "colab": {
          "base_uri": "https://localhost:8080/"
        },
        "id": "PeXpVI3N0dY3",
        "outputId": "ccd368e7-79df-4f0f-db33-fec4b3c393e7"
      },
      "source": [
        "# Checks which years data is available for\n",
        "trade_data['Year'].value_counts().sort_index()"
      ],
      "execution_count": 10,
      "outputs": [
        {
          "output_type": "execute_result",
          "data": {
            "text/plain": [
              "2015    16005\n",
              "2016    16028\n",
              "2017    15995\n",
              "2018    16019\n",
              "2019    16017\n",
              "2020    16031\n",
              "2021     8570\n",
              "Name: Year, dtype: int64"
            ]
          },
          "metadata": {},
          "execution_count": 10
        }
      ]
    },
    {
      "cell_type": "markdown",
      "metadata": {
        "id": "WzEwtw2VxuCl"
      },
      "source": [
        "### Look for Missing Data"
      ]
    },
    {
      "cell_type": "code",
      "metadata": {
        "colab": {
          "base_uri": "https://localhost:8080/"
        },
        "id": "GYmJqhGtxxih",
        "outputId": "36bad919-ab6c-44ea-fc96-ce5899bca074"
      },
      "source": [
        "# Finds the percent of values that are null in a given field\n",
        "trade_data.isnull().mean()"
      ],
      "execution_count": 11,
      "outputs": [
        {
          "output_type": "execute_result",
          "data": {
            "text/plain": [
              "Direction         0.0\n",
              "Year              0.0\n",
              "Date              0.0\n",
              "Weekday           0.0\n",
              "Country           0.0\n",
              "Commodity         0.0\n",
              "Transport_Mode    0.0\n",
              "Measure           0.0\n",
              "Value             0.0\n",
              "Cumulative        0.0\n",
              "dtype: float64"
            ]
          },
          "metadata": {},
          "execution_count": 11
        }
      ]
    },
    {
      "cell_type": "code",
      "metadata": {
        "id": "5EGom6s3xx2T"
      },
      "source": [
        "# Looks at fields where quantity is blank\n",
        "# trade_data[trade_data['Value'].isna()].head(5)\n",
        "# Data has no blanks"
      ],
      "execution_count": 12,
      "outputs": []
    },
    {
      "cell_type": "code",
      "source": [
        "# Checks if there's measures other than dollars\n",
        "trade_data['Measure'].value_counts().sort_index()\n",
        "# Will need to filter out the tonnes, data won't aggregate correctly"
      ],
      "metadata": {
        "colab": {
          "base_uri": "https://localhost:8080/"
        },
        "id": "Cewxt6rZqzmC",
        "outputId": "433b7390-a8a4-4f06-de81-f42d7a649232"
      },
      "execution_count": 13,
      "outputs": [
        {
          "output_type": "execute_result",
          "data": {
            "text/plain": [
              "$         83339\n",
              "Tonnes    21326\n",
              "Name: Measure, dtype: int64"
            ]
          },
          "metadata": {},
          "execution_count": 13
        }
      ]
    },
    {
      "cell_type": "markdown",
      "metadata": {
        "id": "B8L697t3yQSN"
      },
      "source": [
        "### Add Additional Fields"
      ]
    },
    {
      "cell_type": "code",
      "metadata": {
        "id": "iU97h0SOyQuN",
        "colab": {
          "base_uri": "https://localhost:8080/"
        },
        "outputId": "824e8995-e9c9-48dc-ea42-83492c9c6a04"
      },
      "source": [
        "# Adds a month field\n",
        "trade_data['Month'] = trade_data['Date'].dt.month\n",
        "trade_data['Month'].value_counts().sort_index()"
      ],
      "execution_count": 14,
      "outputs": [
        {
          "output_type": "execute_result",
          "data": {
            "text/plain": [
              "1     9492\n",
              "2     8681\n",
              "3     9521\n",
              "4     9205\n",
              "5     9530\n",
              "6     9217\n",
              "7     8778\n",
              "8     8150\n",
              "9     7885\n",
              "10    8162\n",
              "11    7908\n",
              "12    8136\n",
              "Name: Month, dtype: int64"
            ]
          },
          "metadata": {},
          "execution_count": 14
        }
      ]
    },
    {
      "cell_type": "code",
      "metadata": {
        "id": "YYDuqpSByRAo",
        "colab": {
          "base_uri": "https://localhost:8080/",
          "height": 300
        },
        "outputId": "32e4d394-4d46-4c16-fbd8-6374f580d2cd"
      },
      "source": [
        "# Checks how far the data goes into 2021\n",
        "trade_data[trade_data.Year == 2021].pivot_table(index=['Year','Month'], values='Value', aggfunc='sum')\n",
        "# Looks like its only half way through July"
      ],
      "execution_count": 15,
      "outputs": [
        {
          "output_type": "execute_result",
          "data": {
            "text/html": [
              "<div>\n",
              "<style scoped>\n",
              "    .dataframe tbody tr th:only-of-type {\n",
              "        vertical-align: middle;\n",
              "    }\n",
              "\n",
              "    .dataframe tbody tr th {\n",
              "        vertical-align: top;\n",
              "    }\n",
              "\n",
              "    .dataframe thead th {\n",
              "        text-align: right;\n",
              "    }\n",
              "</style>\n",
              "<table border=\"1\" class=\"dataframe\">\n",
              "  <thead>\n",
              "    <tr style=\"text-align: right;\">\n",
              "      <th></th>\n",
              "      <th></th>\n",
              "      <th>Value</th>\n",
              "    </tr>\n",
              "    <tr>\n",
              "      <th>Year</th>\n",
              "      <th>Month</th>\n",
              "      <th></th>\n",
              "    </tr>\n",
              "  </thead>\n",
              "  <tbody>\n",
              "    <tr>\n",
              "      <th rowspan=\"7\" valign=\"top\">2021</th>\n",
              "      <th>1</th>\n",
              "      <td>36814505000</td>\n",
              "    </tr>\n",
              "    <tr>\n",
              "      <th>2</th>\n",
              "      <td>36316355000</td>\n",
              "    </tr>\n",
              "    <tr>\n",
              "      <th>3</th>\n",
              "      <td>46658039000</td>\n",
              "    </tr>\n",
              "    <tr>\n",
              "      <th>4</th>\n",
              "      <td>42605652000</td>\n",
              "    </tr>\n",
              "    <tr>\n",
              "      <th>5</th>\n",
              "      <td>46722805000</td>\n",
              "    </tr>\n",
              "    <tr>\n",
              "      <th>6</th>\n",
              "      <td>48096793000</td>\n",
              "    </tr>\n",
              "    <tr>\n",
              "      <th>7</th>\n",
              "      <td>21456113000</td>\n",
              "    </tr>\n",
              "  </tbody>\n",
              "</table>\n",
              "</div>"
            ],
            "text/plain": [
              "                  Value\n",
              "Year Month             \n",
              "2021 1      36814505000\n",
              "     2      36316355000\n",
              "     3      46658039000\n",
              "     4      42605652000\n",
              "     5      46722805000\n",
              "     6      48096793000\n",
              "     7      21456113000"
            ]
          },
          "metadata": {},
          "execution_count": 15
        }
      ]
    },
    {
      "cell_type": "markdown",
      "metadata": {
        "id": "0MG14xDuxyHo"
      },
      "source": [
        "### Check Data Types"
      ]
    },
    {
      "cell_type": "code",
      "source": [
        "trade_data.head(5)"
      ],
      "metadata": {
        "colab": {
          "base_uri": "https://localhost:8080/",
          "height": 206
        },
        "id": "RXdfnmRjTncx",
        "outputId": "5c49098f-1b47-471e-ed0f-dfc8b44a9c7f"
      },
      "execution_count": 16,
      "outputs": [
        {
          "output_type": "execute_result",
          "data": {
            "text/html": [
              "<div>\n",
              "<style scoped>\n",
              "    .dataframe tbody tr th:only-of-type {\n",
              "        vertical-align: middle;\n",
              "    }\n",
              "\n",
              "    .dataframe tbody tr th {\n",
              "        vertical-align: top;\n",
              "    }\n",
              "\n",
              "    .dataframe thead th {\n",
              "        text-align: right;\n",
              "    }\n",
              "</style>\n",
              "<table border=\"1\" class=\"dataframe\">\n",
              "  <thead>\n",
              "    <tr style=\"text-align: right;\">\n",
              "      <th></th>\n",
              "      <th>Direction</th>\n",
              "      <th>Year</th>\n",
              "      <th>Date</th>\n",
              "      <th>Weekday</th>\n",
              "      <th>Country</th>\n",
              "      <th>Commodity</th>\n",
              "      <th>Transport_Mode</th>\n",
              "      <th>Measure</th>\n",
              "      <th>Value</th>\n",
              "      <th>Cumulative</th>\n",
              "      <th>Month</th>\n",
              "    </tr>\n",
              "  </thead>\n",
              "  <tbody>\n",
              "    <tr>\n",
              "      <th>0</th>\n",
              "      <td>Exports</td>\n",
              "      <td>2015</td>\n",
              "      <td>2015-01-01</td>\n",
              "      <td>Thursday</td>\n",
              "      <td>All</td>\n",
              "      <td>All</td>\n",
              "      <td>All</td>\n",
              "      <td>$</td>\n",
              "      <td>104000000</td>\n",
              "      <td>104000000</td>\n",
              "      <td>1</td>\n",
              "    </tr>\n",
              "    <tr>\n",
              "      <th>1</th>\n",
              "      <td>Exports</td>\n",
              "      <td>2015</td>\n",
              "      <td>2015-01-02</td>\n",
              "      <td>Friday</td>\n",
              "      <td>All</td>\n",
              "      <td>All</td>\n",
              "      <td>All</td>\n",
              "      <td>$</td>\n",
              "      <td>96000000</td>\n",
              "      <td>200000000</td>\n",
              "      <td>1</td>\n",
              "    </tr>\n",
              "    <tr>\n",
              "      <th>2</th>\n",
              "      <td>Exports</td>\n",
              "      <td>2015</td>\n",
              "      <td>2015-01-03</td>\n",
              "      <td>Saturday</td>\n",
              "      <td>All</td>\n",
              "      <td>All</td>\n",
              "      <td>All</td>\n",
              "      <td>$</td>\n",
              "      <td>61000000</td>\n",
              "      <td>262000000</td>\n",
              "      <td>1</td>\n",
              "    </tr>\n",
              "    <tr>\n",
              "      <th>3</th>\n",
              "      <td>Exports</td>\n",
              "      <td>2015</td>\n",
              "      <td>2015-01-04</td>\n",
              "      <td>Sunday</td>\n",
              "      <td>All</td>\n",
              "      <td>All</td>\n",
              "      <td>All</td>\n",
              "      <td>$</td>\n",
              "      <td>74000000</td>\n",
              "      <td>336000000</td>\n",
              "      <td>1</td>\n",
              "    </tr>\n",
              "    <tr>\n",
              "      <th>4</th>\n",
              "      <td>Exports</td>\n",
              "      <td>2015</td>\n",
              "      <td>2015-01-05</td>\n",
              "      <td>Monday</td>\n",
              "      <td>All</td>\n",
              "      <td>All</td>\n",
              "      <td>All</td>\n",
              "      <td>$</td>\n",
              "      <td>105000000</td>\n",
              "      <td>442000000</td>\n",
              "      <td>1</td>\n",
              "    </tr>\n",
              "  </tbody>\n",
              "</table>\n",
              "</div>"
            ],
            "text/plain": [
              "  Direction  Year       Date   Weekday  ... Measure      Value Cumulative Month\n",
              "0   Exports  2015 2015-01-01  Thursday  ...       $  104000000  104000000     1\n",
              "1   Exports  2015 2015-01-02    Friday  ...       $   96000000  200000000     1\n",
              "2   Exports  2015 2015-01-03  Saturday  ...       $   61000000  262000000     1\n",
              "3   Exports  2015 2015-01-04    Sunday  ...       $   74000000  336000000     1\n",
              "4   Exports  2015 2015-01-05    Monday  ...       $  105000000  442000000     1\n",
              "\n",
              "[5 rows x 11 columns]"
            ]
          },
          "metadata": {},
          "execution_count": 16
        }
      ]
    },
    {
      "cell_type": "code",
      "metadata": {
        "colab": {
          "base_uri": "https://localhost:8080/"
        },
        "id": "ZPqntRD_x0UV",
        "outputId": "279b562d-5ae3-4688-b034-59b658346955"
      },
      "source": [
        "trade_data.dtypes"
      ],
      "execution_count": 17,
      "outputs": [
        {
          "output_type": "execute_result",
          "data": {
            "text/plain": [
              "Direction                 object\n",
              "Year                       int64\n",
              "Date              datetime64[ns]\n",
              "Weekday                   object\n",
              "Country                   object\n",
              "Commodity                 object\n",
              "Transport_Mode            object\n",
              "Measure                   object\n",
              "Value                      int64\n",
              "Cumulative                 int64\n",
              "Month                      int64\n",
              "dtype: object"
            ]
          },
          "metadata": {},
          "execution_count": 17
        }
      ]
    },
    {
      "cell_type": "code",
      "metadata": {
        "id": "IsKW5R1tx0lg",
        "colab": {
          "base_uri": "https://localhost:8080/"
        },
        "outputId": "379c1499-ceb9-441c-efc5-b302453a719d"
      },
      "source": [
        "trade_data['Direction'] = trade_data['Direction'].astype('string')\n",
        "trade_data['Weekday'] = trade_data['Weekday'].astype('string')\n",
        "trade_data['Country'] = trade_data['Country'].astype('string')\n",
        "trade_data['Commodity'] = trade_data['Commodity'].astype('string')\n",
        "trade_data['Transport_Mode'] = trade_data['Transport_Mode'].astype('string')\n",
        "trade_data['Measure'] = trade_data['Measure'].astype('string')\n",
        "trade_data.dtypes"
      ],
      "execution_count": 18,
      "outputs": [
        {
          "output_type": "execute_result",
          "data": {
            "text/plain": [
              "Direction                 string\n",
              "Year                       int64\n",
              "Date              datetime64[ns]\n",
              "Weekday                   string\n",
              "Country                   string\n",
              "Commodity                 string\n",
              "Transport_Mode            string\n",
              "Measure                   string\n",
              "Value                      int64\n",
              "Cumulative                 int64\n",
              "Month                      int64\n",
              "dtype: object"
            ]
          },
          "metadata": {},
          "execution_count": 18
        }
      ]
    },
    {
      "cell_type": "code",
      "source": [
        "trade_data.head(5)"
      ],
      "metadata": {
        "colab": {
          "base_uri": "https://localhost:8080/",
          "height": 206
        },
        "id": "Kd1o4GNFeW2_",
        "outputId": "6a2417c1-6a99-4607-a8e4-f86126c024bc"
      },
      "execution_count": 19,
      "outputs": [
        {
          "output_type": "execute_result",
          "data": {
            "text/html": [
              "<div>\n",
              "<style scoped>\n",
              "    .dataframe tbody tr th:only-of-type {\n",
              "        vertical-align: middle;\n",
              "    }\n",
              "\n",
              "    .dataframe tbody tr th {\n",
              "        vertical-align: top;\n",
              "    }\n",
              "\n",
              "    .dataframe thead th {\n",
              "        text-align: right;\n",
              "    }\n",
              "</style>\n",
              "<table border=\"1\" class=\"dataframe\">\n",
              "  <thead>\n",
              "    <tr style=\"text-align: right;\">\n",
              "      <th></th>\n",
              "      <th>Direction</th>\n",
              "      <th>Year</th>\n",
              "      <th>Date</th>\n",
              "      <th>Weekday</th>\n",
              "      <th>Country</th>\n",
              "      <th>Commodity</th>\n",
              "      <th>Transport_Mode</th>\n",
              "      <th>Measure</th>\n",
              "      <th>Value</th>\n",
              "      <th>Cumulative</th>\n",
              "      <th>Month</th>\n",
              "    </tr>\n",
              "  </thead>\n",
              "  <tbody>\n",
              "    <tr>\n",
              "      <th>0</th>\n",
              "      <td>Exports</td>\n",
              "      <td>2015</td>\n",
              "      <td>2015-01-01</td>\n",
              "      <td>Thursday</td>\n",
              "      <td>All</td>\n",
              "      <td>All</td>\n",
              "      <td>All</td>\n",
              "      <td>$</td>\n",
              "      <td>104000000</td>\n",
              "      <td>104000000</td>\n",
              "      <td>1</td>\n",
              "    </tr>\n",
              "    <tr>\n",
              "      <th>1</th>\n",
              "      <td>Exports</td>\n",
              "      <td>2015</td>\n",
              "      <td>2015-01-02</td>\n",
              "      <td>Friday</td>\n",
              "      <td>All</td>\n",
              "      <td>All</td>\n",
              "      <td>All</td>\n",
              "      <td>$</td>\n",
              "      <td>96000000</td>\n",
              "      <td>200000000</td>\n",
              "      <td>1</td>\n",
              "    </tr>\n",
              "    <tr>\n",
              "      <th>2</th>\n",
              "      <td>Exports</td>\n",
              "      <td>2015</td>\n",
              "      <td>2015-01-03</td>\n",
              "      <td>Saturday</td>\n",
              "      <td>All</td>\n",
              "      <td>All</td>\n",
              "      <td>All</td>\n",
              "      <td>$</td>\n",
              "      <td>61000000</td>\n",
              "      <td>262000000</td>\n",
              "      <td>1</td>\n",
              "    </tr>\n",
              "    <tr>\n",
              "      <th>3</th>\n",
              "      <td>Exports</td>\n",
              "      <td>2015</td>\n",
              "      <td>2015-01-04</td>\n",
              "      <td>Sunday</td>\n",
              "      <td>All</td>\n",
              "      <td>All</td>\n",
              "      <td>All</td>\n",
              "      <td>$</td>\n",
              "      <td>74000000</td>\n",
              "      <td>336000000</td>\n",
              "      <td>1</td>\n",
              "    </tr>\n",
              "    <tr>\n",
              "      <th>4</th>\n",
              "      <td>Exports</td>\n",
              "      <td>2015</td>\n",
              "      <td>2015-01-05</td>\n",
              "      <td>Monday</td>\n",
              "      <td>All</td>\n",
              "      <td>All</td>\n",
              "      <td>All</td>\n",
              "      <td>$</td>\n",
              "      <td>105000000</td>\n",
              "      <td>442000000</td>\n",
              "      <td>1</td>\n",
              "    </tr>\n",
              "  </tbody>\n",
              "</table>\n",
              "</div>"
            ],
            "text/plain": [
              "  Direction  Year       Date   Weekday  ... Measure      Value Cumulative Month\n",
              "0   Exports  2015 2015-01-01  Thursday  ...       $  104000000  104000000     1\n",
              "1   Exports  2015 2015-01-02    Friday  ...       $   96000000  200000000     1\n",
              "2   Exports  2015 2015-01-03  Saturday  ...       $   61000000  262000000     1\n",
              "3   Exports  2015 2015-01-04    Sunday  ...       $   74000000  336000000     1\n",
              "4   Exports  2015 2015-01-05    Monday  ...       $  105000000  442000000     1\n",
              "\n",
              "[5 rows x 11 columns]"
            ]
          },
          "metadata": {},
          "execution_count": 19
        }
      ]
    },
    {
      "cell_type": "markdown",
      "metadata": {
        "id": "qvHNx130x03B"
      },
      "source": [
        "### Describe Data Frame"
      ]
    },
    {
      "cell_type": "code",
      "metadata": {
        "colab": {
          "base_uri": "https://localhost:8080/",
          "height": 300
        },
        "id": "2gzACShfx1d3",
        "outputId": "b40da457-d48b-4fe8-8a18-9c3471de60d5"
      },
      "source": [
        "trade_data.describe().round(2)"
      ],
      "execution_count": 20,
      "outputs": [
        {
          "output_type": "execute_result",
          "data": {
            "text/html": [
              "<div>\n",
              "<style scoped>\n",
              "    .dataframe tbody tr th:only-of-type {\n",
              "        vertical-align: middle;\n",
              "    }\n",
              "\n",
              "    .dataframe tbody tr th {\n",
              "        vertical-align: top;\n",
              "    }\n",
              "\n",
              "    .dataframe thead th {\n",
              "        text-align: right;\n",
              "    }\n",
              "</style>\n",
              "<table border=\"1\" class=\"dataframe\">\n",
              "  <thead>\n",
              "    <tr style=\"text-align: right;\">\n",
              "      <th></th>\n",
              "      <th>Year</th>\n",
              "      <th>Value</th>\n",
              "      <th>Cumulative</th>\n",
              "      <th>Month</th>\n",
              "    </tr>\n",
              "  </thead>\n",
              "  <tbody>\n",
              "    <tr>\n",
              "      <th>count</th>\n",
              "      <td>104665.00</td>\n",
              "      <td>1.046650e+05</td>\n",
              "      <td>1.046650e+05</td>\n",
              "      <td>104665.00</td>\n",
              "    </tr>\n",
              "    <tr>\n",
              "      <th>mean</th>\n",
              "      <td>2017.79</td>\n",
              "      <td>2.863475e+07</td>\n",
              "      <td>4.927747e+09</td>\n",
              "      <td>6.30</td>\n",
              "    </tr>\n",
              "    <tr>\n",
              "      <th>std</th>\n",
              "      <td>1.90</td>\n",
              "      <td>5.175917e+07</td>\n",
              "      <td>9.378260e+09</td>\n",
              "      <td>3.43</td>\n",
              "    </tr>\n",
              "    <tr>\n",
              "      <th>min</th>\n",
              "      <td>2015.00</td>\n",
              "      <td>0.000000e+00</td>\n",
              "      <td>0.000000e+00</td>\n",
              "      <td>1.00</td>\n",
              "    </tr>\n",
              "    <tr>\n",
              "      <th>25%</th>\n",
              "      <td>2016.00</td>\n",
              "      <td>1.000000e+06</td>\n",
              "      <td>1.080000e+08</td>\n",
              "      <td>3.00</td>\n",
              "    </tr>\n",
              "    <tr>\n",
              "      <th>50%</th>\n",
              "      <td>2018.00</td>\n",
              "      <td>8.000000e+06</td>\n",
              "      <td>1.348000e+09</td>\n",
              "      <td>6.00</td>\n",
              "    </tr>\n",
              "    <tr>\n",
              "      <th>75%</th>\n",
              "      <td>2019.00</td>\n",
              "      <td>2.700000e+07</td>\n",
              "      <td>4.549000e+09</td>\n",
              "      <td>9.00</td>\n",
              "    </tr>\n",
              "    <tr>\n",
              "      <th>max</th>\n",
              "      <td>2021.00</td>\n",
              "      <td>5.490000e+08</td>\n",
              "      <td>6.436600e+10</td>\n",
              "      <td>12.00</td>\n",
              "    </tr>\n",
              "  </tbody>\n",
              "</table>\n",
              "</div>"
            ],
            "text/plain": [
              "            Year         Value    Cumulative      Month\n",
              "count  104665.00  1.046650e+05  1.046650e+05  104665.00\n",
              "mean     2017.79  2.863475e+07  4.927747e+09       6.30\n",
              "std         1.90  5.175917e+07  9.378260e+09       3.43\n",
              "min      2015.00  0.000000e+00  0.000000e+00       1.00\n",
              "25%      2016.00  1.000000e+06  1.080000e+08       3.00\n",
              "50%      2018.00  8.000000e+06  1.348000e+09       6.00\n",
              "75%      2019.00  2.700000e+07  4.549000e+09       9.00\n",
              "max      2021.00  5.490000e+08  6.436600e+10      12.00"
            ]
          },
          "metadata": {},
          "execution_count": 20
        }
      ]
    },
    {
      "cell_type": "code",
      "metadata": {
        "id": "6GDVAYJfx2Ei"
      },
      "source": [
        ""
      ],
      "execution_count": 20,
      "outputs": []
    },
    {
      "cell_type": "markdown",
      "source": [
        "### Create New Data Frames"
      ],
      "metadata": {
        "id": "n_UzKu5yy_Tc"
      }
    },
    {
      "cell_type": "code",
      "source": [
        "# Filters out tonnes from dollars\n",
        "td_doll = trade_data.loc[(trade_data['Measure'] == '$')]\n",
        "                                                            #& (trade_data['Date'] <= '2021-06-01')]\n",
        "                                                            #& (trade_data['Country'] != 'All') & \n",
        "                                                            #(trade_data['Commodity'] != 'All') & \n",
        "                                                            #(trade_data['Transport_Mode'] != 'All')]\n",
        "\n",
        "td_Ton = trade_data.loc[(trade_data['Measure'] == 'Tonnes')]\n",
        "                                                            #& (trade_data['Country'] != 'All') & \n",
        "                                                            #(trade_data['Commodity'] != 'All')] # Transport mode only has all\n",
        "td_Ton.head(5)"
      ],
      "metadata": {
        "colab": {
          "base_uri": "https://localhost:8080/",
          "height": 206
        },
        "id": "0XykHyj7zCzy",
        "outputId": "c861a729-b4ac-40a7-da67-7aa2bd587850"
      },
      "execution_count": 87,
      "outputs": [
        {
          "output_type": "execute_result",
          "data": {
            "text/html": [
              "<div>\n",
              "<style scoped>\n",
              "    .dataframe tbody tr th:only-of-type {\n",
              "        vertical-align: middle;\n",
              "    }\n",
              "\n",
              "    .dataframe tbody tr th {\n",
              "        vertical-align: top;\n",
              "    }\n",
              "\n",
              "    .dataframe thead th {\n",
              "        text-align: right;\n",
              "    }\n",
              "</style>\n",
              "<table border=\"1\" class=\"dataframe\">\n",
              "  <thead>\n",
              "    <tr style=\"text-align: right;\">\n",
              "      <th></th>\n",
              "      <th>Direction</th>\n",
              "      <th>Year</th>\n",
              "      <th>Date</th>\n",
              "      <th>Weekday</th>\n",
              "      <th>Country</th>\n",
              "      <th>Commodity</th>\n",
              "      <th>Transport_Mode</th>\n",
              "      <th>Measure</th>\n",
              "      <th>Value</th>\n",
              "      <th>Cumulative</th>\n",
              "      <th>Month</th>\n",
              "    </tr>\n",
              "  </thead>\n",
              "  <tbody>\n",
              "    <tr>\n",
              "      <th>8003</th>\n",
              "      <td>Exports</td>\n",
              "      <td>2015</td>\n",
              "      <td>2015-01-01</td>\n",
              "      <td>Thursday</td>\n",
              "      <td>All</td>\n",
              "      <td>Milk powder, butter, and cheese</td>\n",
              "      <td>All</td>\n",
              "      <td>Tonnes</td>\n",
              "      <td>15000</td>\n",
              "      <td>15000</td>\n",
              "      <td>1</td>\n",
              "    </tr>\n",
              "    <tr>\n",
              "      <th>8004</th>\n",
              "      <td>Exports</td>\n",
              "      <td>2015</td>\n",
              "      <td>2015-01-02</td>\n",
              "      <td>Friday</td>\n",
              "      <td>All</td>\n",
              "      <td>Milk powder, butter, and cheese</td>\n",
              "      <td>All</td>\n",
              "      <td>Tonnes</td>\n",
              "      <td>12000</td>\n",
              "      <td>27000</td>\n",
              "      <td>1</td>\n",
              "    </tr>\n",
              "    <tr>\n",
              "      <th>8005</th>\n",
              "      <td>Exports</td>\n",
              "      <td>2015</td>\n",
              "      <td>2015-01-03</td>\n",
              "      <td>Saturday</td>\n",
              "      <td>All</td>\n",
              "      <td>Milk powder, butter, and cheese</td>\n",
              "      <td>All</td>\n",
              "      <td>Tonnes</td>\n",
              "      <td>1000</td>\n",
              "      <td>28000</td>\n",
              "      <td>1</td>\n",
              "    </tr>\n",
              "    <tr>\n",
              "      <th>8006</th>\n",
              "      <td>Exports</td>\n",
              "      <td>2015</td>\n",
              "      <td>2015-01-04</td>\n",
              "      <td>Sunday</td>\n",
              "      <td>All</td>\n",
              "      <td>Milk powder, butter, and cheese</td>\n",
              "      <td>All</td>\n",
              "      <td>Tonnes</td>\n",
              "      <td>6000</td>\n",
              "      <td>34000</td>\n",
              "      <td>1</td>\n",
              "    </tr>\n",
              "    <tr>\n",
              "      <th>8007</th>\n",
              "      <td>Exports</td>\n",
              "      <td>2015</td>\n",
              "      <td>2015-01-05</td>\n",
              "      <td>Monday</td>\n",
              "      <td>All</td>\n",
              "      <td>Milk powder, butter, and cheese</td>\n",
              "      <td>All</td>\n",
              "      <td>Tonnes</td>\n",
              "      <td>13000</td>\n",
              "      <td>47000</td>\n",
              "      <td>1</td>\n",
              "    </tr>\n",
              "  </tbody>\n",
              "</table>\n",
              "</div>"
            ],
            "text/plain": [
              "     Direction  Year       Date   Weekday  ... Measure  Value Cumulative Month\n",
              "8003   Exports  2015 2015-01-01  Thursday  ...  Tonnes  15000      15000     1\n",
              "8004   Exports  2015 2015-01-02    Friday  ...  Tonnes  12000      27000     1\n",
              "8005   Exports  2015 2015-01-03  Saturday  ...  Tonnes   1000      28000     1\n",
              "8006   Exports  2015 2015-01-04    Sunday  ...  Tonnes   6000      34000     1\n",
              "8007   Exports  2015 2015-01-05    Monday  ...  Tonnes  13000      47000     1\n",
              "\n",
              "[5 rows x 11 columns]"
            ]
          },
          "metadata": {},
          "execution_count": 87
        }
      ]
    },
    {
      "cell_type": "markdown",
      "source": [
        "***Important notes***\n",
        "The data appears to only have one of Country/Commodity/Transport mode at a time, the other two categories will say \"All\". So we will need to evaluate JUST the US or JUST electronics.\n",
        "\n",
        "You have to have Country set to \"All\" or \"China\" if you want to look at Commodity.\n",
        "\n",
        "You have to have Commodity set to \"All\" if you want to look at Country."
      ],
      "metadata": {
        "id": "D5SNLRVTU_tl"
      }
    },
    {
      "cell_type": "code",
      "source": [
        "td_chart1 = td_doll.loc[(td_doll['Country'] == 'China') & (td_doll['Commodity'] == 'Milk powder, butter, and cheese') & (td_doll['Transport_Mode'] == 'All')]\n",
        "#td_chart1.groupby('Year').Commodity.value_counts().plot(kind='bar', rot = 30)\n",
        "td_chart1.groupby('Year').Commodity.value_counts().plot(kind='bar', rot = 30)"
      ],
      "metadata": {
        "colab": {
          "base_uri": "https://localhost:8080/",
          "height": 395
        },
        "id": "2HHfg4toDpEX",
        "outputId": "614a6739-742c-4025-a31a-ad04878819eb"
      },
      "execution_count": 45,
      "outputs": [
        {
          "output_type": "execute_result",
          "data": {
            "text/plain": [
              "<matplotlib.axes._subplots.AxesSubplot at 0x7f8f0961ea50>"
            ]
          },
          "metadata": {},
          "execution_count": 45
        },
        {
          "output_type": "display_data",
          "data": {
            "image/png": "[encoded data removed]",
            "text/plain": [
              "<Figure size 432x288 with 1 Axes>"
            ]
          },
          "metadata": {
            "needs_background": "light"
          }
        }
      ]
    },
    {
      "cell_type": "code",
      "source": [
        "td_chart2 = td_doll.loc[(td_doll['Country'] != 'All') & (td_doll['Commodity'] == 'All') & (td_doll['Transport_Mode'] == 'All')]\n",
        "#td_chart2.groupby('Year').Commodity.value_counts().plot(kind='bar', rot = 30)\n",
        "td_chart2.groupby('Country').Commodity.value_counts().plot(kind='bar', rot = 30)"
      ],
      "metadata": {
        "colab": {
          "base_uri": "https://localhost:8080/",
          "height": 380
        },
        "id": "iLjVFwXxnVjI",
        "outputId": "cedf1c45-789a-4513-9de9-53f853d3d8df"
      },
      "execution_count": 49,
      "outputs": [
        {
          "output_type": "execute_result",
          "data": {
            "text/plain": [
              "<matplotlib.axes._subplots.AxesSubplot at 0x7f8f092b5f50>"
            ]
          },
          "metadata": {},
          "execution_count": 49
        },
        {
          "output_type": "display_data",
          "data": {
            "image/png": "[encoded data removed]",
            "text/plain": [
              "<Figure size 432x288 with 1 Axes>"
            ]
          },
          "metadata": {
            "needs_background": "light"
          }
        }
      ]
    },
    {
      "cell_type": "code",
      "source": [
        "td_chart3 = td_doll.loc[(td_doll['Country'] != 'All') & (td_doll['Commodity'] == 'All') & (td_doll['Transport_Mode'] == 'All')]\n",
        "c3 = td_chart3.pivot_table(index=['Year', 'Month'], columns=['Country'],\n",
        "                    values='Value', aggfunc='sum')\n",
        "\n",
        "c3.plot(figsize=(20, 10))"
      ],
      "metadata": {
        "colab": {
          "base_uri": "https://localhost:8080/",
          "height": 633
        },
        "id": "_qTrYmW6qWll",
        "outputId": "bc0685b5-e82b-4955-ae3c-a108cf65bc15"
      },
      "execution_count": 88,
      "outputs": [
        {
          "output_type": "execute_result",
          "data": {
            "text/plain": [
              "<matplotlib.axes._subplots.AxesSubplot at 0x7f8f022c1d90>"
            ]
          },
          "metadata": {},
          "execution_count": 88
        },
        {
          "output_type": "display_data",
          "data": {
            "image/png": "[encoded data removed]",
            "text/plain": [
              "<Figure size 1440x720 with 1 Axes>"
            ]
          },
          "metadata": {
            "needs_background": "light"
          }
        }
      ]
    },
    {
      "cell_type": "markdown",
      "metadata": {
        "id": "FtMx7SARx2dE"
      },
      "source": [
        "### Q1: ____"
      ]
    },
    {
      "cell_type": "code",
      "metadata": {
        "id": "_93DMSgyx20i"
      },
      "source": [
        ""
      ],
      "execution_count": null,
      "outputs": []
    },
    {
      "cell_type": "code",
      "metadata": {
        "id": "gV_ygJTox3CB"
      },
      "source": [
        ""
      ],
      "execution_count": null,
      "outputs": []
    },
    {
      "cell_type": "markdown",
      "metadata": {
        "id": "EJ5CEPHEyJwX"
      },
      "source": [
        "### Q2: ____"
      ]
    },
    {
      "cell_type": "code",
      "metadata": {
        "id": "pKhxwNGqyKc7"
      },
      "source": [
        ""
      ],
      "execution_count": null,
      "outputs": []
    },
    {
      "cell_type": "code",
      "metadata": {
        "id": "AqHRrHDHyK9_"
      },
      "source": [
        ""
      ],
      "execution_count": null,
      "outputs": []
    },
    {
      "cell_type": "markdown",
      "metadata": {
        "id": "pAK4iSnPyXFX"
      },
      "source": [
        "### Lessons Learned"
      ]
    },
    {
      "cell_type": "code",
      "metadata": {
        "id": "wAUgRTyQyXaL"
      },
      "source": [
        ""
      ],
      "execution_count": null,
      "outputs": []
    },
    {
      "cell_type": "code",
      "metadata": {
        "id": "5x0QqnYbyXp8"
      },
      "source": [
        ""
      ],
      "execution_count": null,
      "outputs": []
    },
    {
      "cell_type": "markdown",
      "metadata": {
        "id": "NvLTz8fKyX7E"
      },
      "source": [
        "### Next Steps"
      ]
    },
    {
      "cell_type": "code",
      "metadata": {
        "id": "FvgHxrFIyYSt"
      },
      "source": [
        ""
      ],
      "execution_count": null,
      "outputs": []
    },
    {
      "cell_type": "code",
      "metadata": {
        "id": "wi-F23uXyYiP"
      },
      "source": [
        ""
      ],
      "execution_count": null,
      "outputs": []
    }
  ]
}
